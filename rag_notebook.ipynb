{
 "cells": [
  {
   "cell_type": "markdown",
   "metadata": {},
   "source": [
    "# Ollama PDF RAG Notebook"
   ]
  },
  {
   "cell_type": "markdown",
   "metadata": {},
   "source": [
    "### Import Libraries\n"
   ]
  },
  {
   "cell_type": "code",
   "execution_count": 1,
   "metadata": {},
   "outputs": [],
   "source": [
    "# Imports\n",
    "from langchain_community.document_loaders import UnstructuredPDFLoader\n",
    "from langchain_ollama import OllamaEmbeddings\n",
    "from langchain_text_splitters import RecursiveCharacterTextSplitter\n",
    "from langchain_community.vectorstores import Chroma\n",
    "from langchain.prompts import ChatPromptTemplate, PromptTemplate\n",
    "from langchain_core.output_parsers import StrOutputParser\n",
    "from langchain_ollama.chat_models import ChatOllama\n",
    "from langchain_core.runnables import RunnablePassthrough\n",
    "from langchain.retrievers.multi_query import MultiQueryRetriever\n",
    "\n",
    "# Suppress warnings\n",
    "import warnings\n",
    "warnings.filterwarnings('ignore')\n"
   ]
  },
  {
   "cell_type": "markdown",
   "metadata": {},
   "source": [
    "## Load PDF"
   ]
  },
  {
   "cell_type": "code",
   "execution_count": 2,
   "metadata": {},
   "outputs": [
    {
     "name": "stdout",
     "output_type": "stream",
     "text": [
      "PDF loaded successfully: documents/scammer-agent.pdf\n"
     ]
    }
   ],
   "source": [
    "# Load PDF\n",
    "local_path = \"documents/scammer-agent.pdf\"\n",
    "if local_path:\n",
    "    loader = UnstructuredPDFLoader(file_path=local_path)\n",
    "    data = loader.load()\n",
    "    print(f\"PDF loaded successfully: {local_path}\")\n",
    "else:\n",
    "    print(\"Upload a PDF file\")"
   ]
  },
  {
   "cell_type": "markdown",
   "metadata": {},
   "source": [
    "## Split text into chunks"
   ]
  },
  {
   "cell_type": "code",
   "execution_count": 3,
   "metadata": {},
   "outputs": [
    {
     "name": "stdout",
     "output_type": "stream",
     "text": [
      "Text split into 23 chunks\n"
     ]
    }
   ],
   "source": [
    "# Split text into chunks\n",
    "text_splitter = RecursiveCharacterTextSplitter(chunk_size=1000, chunk_overlap=200)\n",
    "chunks = text_splitter.split_documents(data)\n",
    "print(f\"Text split into {len(chunks)} chunks\")"
   ]
  },
  {
   "cell_type": "code",
   "execution_count": 4,
   "metadata": {},
   "outputs": [
    {
     "name": "stdout",
     "output_type": "stream",
     "text": [
      "page_content='4 2 0 2\n",
      "\n",
      "t c O 1 2\n",
      "\n",
      "] I\n",
      "\n",
      "A . s c [\n",
      "\n",
      "1 v 0 5 6 5 1 . 0 1 4 2 : v i X r a\n",
      "\n",
      "Voice-Enabled AI Agents can Perform Common Scams\n",
      "\n",
      "Richard Fang UIUC\n",
      "\n",
      "Dylan Bowman UIUC\n",
      "\n",
      "Daniel Kang UIUC\n",
      "\n",
      "Abstract\n",
      "\n",
      "Recent advances in multi-modal, highly ca- pable LLMs have enabled voice-enabled AI agents. These agents are enabling new applica- tions, such as voice-enabled autonomous cus- tomer service. However, with all AI capabili- ties, these new capabilities have the potential for dual use.\n",
      "\n",
      "In this work, we show that voice-enabled AI agents can perform the actions necessary to perform common scams. To do so, we select a list of common scams collected by the govern- ment and construct voice-enabled agents with directions to perform these scams. We con- duct experiments on our voice-enabled agents and show that they can indeed perform the ac- tions necessary to autonomously perform such scams. Our results raise questions around the widespread deployment of voice-enabled AI agents.\n",
      "\n",
      "1\n",
      "\n",
      "Introduction' metadata={'source': 'documents/scammer-agent.pdf'}\n"
     ]
    }
   ],
   "source": [
    "print(chunks[0])"
   ]
  },
  {
   "cell_type": "markdown",
   "metadata": {},
   "source": [
    "## Create vector database"
   ]
  },
  {
   "cell_type": "code",
   "execution_count": 5,
   "metadata": {},
   "outputs": [
    {
     "name": "stdout",
     "output_type": "stream",
     "text": [
      "Vector database created successfully\n"
     ]
    }
   ],
   "source": [
    "# Create vector database\n",
    "vector_db = Chroma.from_documents(\n",
    "    documents=chunks,\n",
    "    embedding=OllamaEmbeddings(model=\"nomic-embed-text\"),\n",
    "    collection_name=\"local-rag\"\n",
    ")\n",
    "print(\"Vector database created successfully\")"
   ]
  },
  {
   "cell_type": "code",
   "execution_count": 6,
   "metadata": {},
   "outputs": [
    {
     "data": {
      "text/plain": [
       "[Document(metadata={'source': 'documents/scammer-agent.pdf'}, page_content='4 2 0 2\\n\\nt c O 1 2\\n\\n] I\\n\\nA . s c [\\n\\n1 v 0 5 6 5 1 . 0 1 4 2 : v i X r a\\n\\nVoice-Enabled AI Agents can Perform Common Scams\\n\\nRichard Fang UIUC\\n\\nDylan Bowman UIUC\\n\\nDaniel Kang UIUC\\n\\nAbstract\\n\\nRecent advances in multi-modal, highly ca- pable LLMs have enabled voice-enabled AI agents. These agents are enabling new applica- tions, such as voice-enabled autonomous cus- tomer service. However, with all AI capabili- ties, these new capabilities have the potential for dual use.\\n\\nIn this work, we show that voice-enabled AI agents can perform the actions necessary to perform common scams. To do so, we select a list of common scams collected by the govern- ment and construct voice-enabled agents with directions to perform these scams. We con- duct experiments on our voice-enabled agents and show that they can indeed perform the ac- tions necessary to autonomously perform such scams. Our results raise questions around the widespread deployment of voice-enabled AI agents.\\n\\n1\\n\\nIntroduction'),\n",
       " Document(metadata={'source': 'documents/scammer-agent.pdf'}, page_content='5 Related Work\\n\\nWe now provide an overview of related work.\\n\\nDual use of AI. The use of AI for dual use has widely been studied (Kang et al., 2024; Fang et al., 2024b; Urbina et al., 2022; Weidinger et al., 2022, 2021). These studies range from taxonomizing potential dual use applications of AI to demonstrat- ing capabilities on cybersecurity attacks. To our knowledge, the ability to perform real-time voice conversations and perform tool use has not been widely available until recently. As such, ours is the first work to demonstrate that voice-enabled\\n\\n4\\n\\nAI agents can perform the actions necessary for common scams.'),\n",
       " Document(metadata={'source': 'documents/scammer-agent.pdf'}, page_content='In this work, we investigate the question: can voice-enabled AI agents perform the tasks needed to conduct common scams? We answer the ques- tion in the affirmative, showing that voice-enabled AI agents can perform common scams in real-time. To do so, we first identify a list of common scams as collected by the government (Paxton, 2024). From these scams, we designed voice- enabled AI agents with directions to conduct these scams with access to simple tools (Figure 1). In this\\n\\nThese scams typically involve a scammer calling a victim to convince them to take actions or re- veal sensitive information. Based on these actions or information, the scammer then typically steals funds from the victim. We provide a list of com- mon scams in Table 1 as provided by the Attorney General of Texas’ office (Paxton, 2024).\\n\\nPerforming these scams can require complex interactions with websites and feedback from the user. Consider a scam where the scammer steals\\n\\n1'),\n",
       " Document(metadata={'source': 'documents/scammer-agent.pdf'}, page_content='4.4 Discussion of Results\\n\\nWe believe that the capabilities demonstrated in this section are a lower bound for future voice-assisted AI agents. These agents are likely to improve in several ways.\\n\\nFor example, the actions that our agents must take are highly granular, such filling out specific fields, clicking on buttons, and navigating to spe- cific websites. More ergonomic methods of in- teracting with web browsers will likely improve performance. Other agents improve significantly with techniques like retrieval-augmented genera- tion (Lewis et al., 2020; Fang et al., 2024a).\\n\\nBeyond improvements in agents, base models have substantially improved in the past few years (Brown et al., 2020; Achiam et al., 2023). These im- provements have translated to broad improvements in a range of downstream tasks and we anticipate that this will also be the case for efficacy in scams.\\n\\n5 Related Work\\n\\nWe now provide an overview of related work.'),\n",
       " Document(metadata={'source': 'documents/scammer-agent.pdf'}, page_content='4\\n\\nAI agents can perform the actions necessary for common scams.\\n\\nAI scams and spam. AI has already been used in the real world to perform scams and produce spam. For example, deepfakes have already been used to scam a British engineering company out of $25 million dollars (Chen, 2024). They are also widely used to create social media spam (Bond, 2024). To our knowledge, autonomous, responsive voice scams are not widely deployed due to technologi- cal limitations. Namely, these scams are currently performed by humans (Hanoch and Wood, 2021). Our work shows that autonomous voices scams are possible with new advances in AI.\\n\\n6 Conclusions\\n\\nAs we have shown, voice-enabled LLM agents can perform the actions necessary to perform common phone scams. These agents are highly capable, can react to changes in the environment, and retry based on faulty information from the victim. Our results highlight the need for future research in protecting victims from such scams.')]"
      ]
     },
     "execution_count": 6,
     "metadata": {},
     "output_type": "execute_result"
    }
   ],
   "source": [
    "vector_db.similarity_search(query=(\"Voice-Enabled AI Agents\"), k=5)"
   ]
  },
  {
   "cell_type": "markdown",
   "metadata": {},
   "source": [
    "## Set up LLM and Retrieval"
   ]
  },
  {
   "cell_type": "code",
   "execution_count": 7,
   "metadata": {},
   "outputs": [],
   "source": [
    "# Set up LLM and retrieval\n",
    "local_model = \"llama3.2\"  # or whichever model you prefer\n",
    "llm = ChatOllama(model=local_model)"
   ]
  },
  {
   "cell_type": "code",
   "execution_count": 8,
   "metadata": {},
   "outputs": [],
   "source": [
    "# Query prompt template\n",
    "QUERY_PROMPT = PromptTemplate(\n",
    "    input_variables=[\"question\"],\n",
    "    template=\"\"\"You are an AI language model assistant. Your task is to generate 2\n",
    "    different versions of the given user question to retrieve relevant documents from\n",
    "    a vector database. By generating multiple perspectives on the user question, your\n",
    "    goal is to help the user overcome some of the limitations of the distance-based\n",
    "    similarity search. Provide these alternative questions separated by newlines.\n",
    "    Original question: {question}\"\"\",\n",
    ")\n",
    "\n",
    "# Set up retriever\n",
    "retriever = MultiQueryRetriever.from_llm(\n",
    "    vector_db.as_retriever(), \n",
    "    llm,\n",
    "    prompt=QUERY_PROMPT\n",
    ")"
   ]
  },
  {
   "cell_type": "markdown",
   "metadata": {},
   "source": [
    "## Create chain"
   ]
  },
  {
   "cell_type": "code",
   "execution_count": 9,
   "metadata": {},
   "outputs": [],
   "source": [
    "# RAG prompt template\n",
    "template = \"\"\"\n",
    "Answer the question based on the context below. If you can't \n",
    "answer the question, reply \"I don't know\".\n",
    "\n",
    "Context: {context}\n",
    "\n",
    "Question: {question}\n",
    "\"\"\"\n",
    "\n",
    "prompt = ChatPromptTemplate.from_template(template)"
   ]
  },
  {
   "cell_type": "code",
   "execution_count": 10,
   "metadata": {},
   "outputs": [],
   "source": [
    "# Create chain\n",
    "chain = (\n",
    "    {\"context\": retriever, \"question\": RunnablePassthrough()}\n",
    "    | prompt\n",
    "    | llm\n",
    "    | StrOutputParser()\n",
    ")"
   ]
  },
  {
   "cell_type": "markdown",
   "metadata": {},
   "source": [
    "## Chat with PDF"
   ]
  },
  {
   "cell_type": "code",
   "execution_count": 11,
   "metadata": {},
   "outputs": [],
   "source": [
    "\n",
    "def chat_with_pdf(question, stream=False):\n",
    "    \"\"\"\n",
    "    Chat with the PDF using the RAG chain.\n",
    "    \"\"\"\n",
    "    if stream:\n",
    "        response = \"\"\n",
    "        for token in chain.stream({\"question\": question}):\n",
    "            response += token\n",
    "            print(token, end='', flush=True)\n",
    "    else:\n",
    "        print(chain.invoke({\"question\": question}))\n"
   ]
  },
  {
   "cell_type": "code",
   "execution_count": 12,
   "metadata": {},
   "outputs": [
    {
     "name": "stdout",
     "output_type": "stream",
     "text": [
      "The main idea of this document appears to be the exploration of using AI technology for nefarious purposes, specifically in the context of scams and cybersecurity threats. The authors examine the capabilities of language models and propose an architecture for creating AI agents that can perform common scams, such as navigating websites and retrieving user credentials.\n"
     ]
    }
   ],
   "source": [
    "# Example 1\n",
    "chat_with_pdf(\"What is the main idea of this document?\")"
   ]
  },
  {
   "cell_type": "code",
   "execution_count": 13,
   "metadata": {},
   "outputs": [
    {
     "name": "stdout",
     "output_type": "stream",
     "text": [
      "The purpose of the scammer agent is to conduct common scams in real-time, specifically phone-based scams. The agent uses voice-enabled AI capabilities to autonomously perform actions needed to conduct these scams, such as logging into bank accounts, completing two-factor authentication processes, and stealing funds from victims."
     ]
    }
   ],
   "source": [
    "# Example 2\n",
    "chat_with_pdf(\"What is the purpose of the scammer agent?\", stream=True)"
   ]
  },
  {
   "cell_type": "code",
   "execution_count": 14,
   "metadata": {},
   "outputs": [
    {
     "name": "stdout",
     "output_type": "stream",
     "text": [
      "The case study highlighted in the document is a redacted transcript and an abridged action log for a bank transfer scam. The transcript shows the interaction between the scammer (posing as John from Bank of America) and the victim, where the scammer asks for the victim's username and password to verify their information for security purposes. After receiving the password, the scammer then requests the 2FA code and performs actions to fill out the form, navigate to the transfer page, search for a recipient, and transfer the money. The case study aims to understand the trajectory of these scams and highlight the capabilities of newly available technology in nefarious uses."
     ]
    }
   ],
   "source": [
    "# Example 3\n",
    "chat_with_pdf(\"Can you explain the case study highlighted in the document?\", stream=True)"
   ]
  },
  {
   "cell_type": "markdown",
   "metadata": {},
   "source": [
    "## Clean up (optional)"
   ]
  },
  {
   "cell_type": "code",
   "execution_count": 15,
   "metadata": {},
   "outputs": [
    {
     "name": "stdout",
     "output_type": "stream",
     "text": [
      "Vector database deleted successfully\n"
     ]
    }
   ],
   "source": [
    "# Optional: Clean up when done \n",
    "vector_db.delete_collection()\n",
    "print(\"Vector database deleted successfully\")"
   ]
  },
  {
   "cell_type": "code",
   "execution_count": null,
   "metadata": {},
   "outputs": [],
   "source": []
  }
 ],
 "metadata": {
  "kernelspec": {
   "display_name": "rag_env",
   "language": "python",
   "name": "python3"
  },
  "language_info": {
   "codemirror_mode": {
    "name": "ipython",
    "version": 3
   },
   "file_extension": ".py",
   "mimetype": "text/x-python",
   "name": "python",
   "nbconvert_exporter": "python",
   "pygments_lexer": "ipython3",
   "version": "3.10.16"
  }
 },
 "nbformat": 4,
 "nbformat_minor": 2
}
